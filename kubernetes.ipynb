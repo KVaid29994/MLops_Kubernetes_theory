{
 "cells": [
  {
   "cell_type": "markdown",
   "id": "59b4b30e",
   "metadata": {},
   "source": [
    "# **What is Kubernetes?**"
   ]
  },
  {
   "cell_type": "markdown",
   "id": "759757e0",
   "metadata": {},
   "source": [
    "![kubernetes](kubernetes.png)"
   ]
  },
  {
   "cell_type": "markdown",
   "id": "70d20d98",
   "metadata": {},
   "source": [
    "Kubernetes, often abbreviated as **K8s**, is an open-source platform designed to automate the deployment, scaling, and management of *containerized applications*.\n",
    "\n",
    "    - Containers package an application with all its dependencies, making them portable and consistent across different computing environments. Kubernetes orchestrates these containers, ensuring that applications run reliably and efficiently, whether on physical servers, virtual machines, or in the cloud"
   ]
  },
  {
   "cell_type": "markdown",
   "id": "46acd333",
   "metadata": {},
   "source": [
    "### Before we move forward let us understand **Distributed computing**"
   ]
  },
  {
   "cell_type": "markdown",
   "id": "4a523960",
   "metadata": {},
   "source": [
    "![Distributed computing](the_distributed_computing_process-f_mobile.png)"
   ]
  },
  {
   "cell_type": "markdown",
   "id": "bc8c3509",
   "metadata": {},
   "source": [
    "\n",
    "Distributed computing is a field of computer science that studies systems whose components are located on different networked computers and communicate and coordinate their actions by passing messages to achieve a common goal. \n",
    "\n",
    "Imagine you have a really big problem to solve, like processing a massive dataset 📊 or running a complex simulation 🔍. A single computer might take too long ⏳ or not have enough resources 💻. Distributed computing tackles this by:\n",
    "\n",
    "1. **🔍 Breaking down the problem:** The large problem is divided into smaller, independent sub-problems.\n",
    "\n",
    "2. **📤 Distributing tasks:** These sub-problems are then distributed among multiple computers (nodes) in a network.\n",
    "\n",
    "3. **⚡ Parallel execution:** Each node works on its assigned sub-problem simultaneously.\n",
    "\n",
    "4. **🤝 Coordination and communication:** The nodes communicate with each other to share data, synchronize their progress, and ultimately combine their results to solve the original big problem."
   ]
  },
  {
   "cell_type": "markdown",
   "id": "65cf3f03",
   "metadata": {},
   "source": [
    "### 🛠️ **Components of Distributed Computing**\n"
   ]
  },
  {
   "cell_type": "markdown",
   "id": "1e1cfce0",
   "metadata": {},
   "source": [
    "> **Cluster:** A cluster is a group of interconnected computers or servers that work together as a single system. Each computer in the cluster is called a **node**, and they collaborate to share workloads, provide redundancy, and improve performance. 🌐\n",
    "        **Cluster = Master + Worker Nodes**\n",
    "\n",
    "> **Lead-Node Server:** The lead-node (or master node) in a distributed system is responsible for managing the cluster. It coordinates tasks like assigning workloads to worker nodes, monitoring their health, and ensuring everything runs smoothly. 🧑‍💻\n",
    "\n",
    "        **Node = A physical-virtual machine running containers**\n",
    "\n",
    "> **Pod** = Smallest deployable unit (contains one or more containers)\n",
    "\n",
    "> **Communication:** Communication in distributed computing refers to how nodes in the cluster exchange data and instructions. It happens through network protocols and is crucial for synchronization, task distribution, and data sharing among nodes. 🔗\n",
    "\n",
    "> **Ingress** = Manages external access (like a smart router)\n",
    "\n",
    "> **Concurrency (Speed, Fault Tolerance):** Concurrency in distributed systems allows multiple tasks to run simultaneously across nodes. This boosts speed 🚀 and ensures fault tolerance—if one node fails, the workload is shifted to others, preventing disruptions. ⚠️\n",
    "\n",
    "> **Comparison with Apache Spark Internally (MapReduce):** Apache Spark and Kubernetes both enable distributed computing but operate differently. Spark uses a specialized model called **MapReduce**, where tasks are divided into \"map\" (processing) and \"reduce\" (aggregation) steps. Kubernetes, on the other hand, provides a general-purpose framework for orchestrating containerized workloads and does not impose a specific computation model. ⚙️\n"
   ]
  },
  {
   "cell_type": "markdown",
   "id": "319dd9bc",
   "metadata": {},
   "source": [
    "### 📦 Common Tools Used With Kubernetes:\n",
    "Docker: For creating containers\n",
    "\n",
    "Helm: For packaging Kubernetes applications\n",
    "\n",
    "kubectl: Command-line tool to interact with Kubernetes\n",
    "\n",
    "Prometheus + Grafana: For monitoring and observability"
   ]
  },
  {
   "cell_type": "markdown",
   "id": "bbfdca2c",
   "metadata": {},
   "source": [
    "### 🌟 **Benefits of Distributed Computing**"
   ]
  },
  {
   "cell_type": "markdown",
   "id": "1afa697a",
   "metadata": {},
   "source": [
    "> **Scalability:** Distributed computing allows you to divide tasks among multiple machines, enabling the system to handle larger workloads. For example, in ML, if training a model on a single machine takes 10 hours, distributing the work across 10 machines can reduce the time significantly. 📈\n",
    "\n",
    "> **Fault Tolerance:** If one machine fails, the distributed system can redistribute the tasks to other machines, ensuring the system keeps running. Think of it as a power grid—if one station goes offline, others take over to maintain the electricity supply. ⚡\n",
    "\n",
    "> **Improved Performance:** Tasks are processed in parallel, reducing overall latency and making applications faster. For example, web applications can serve more users simultaneously by running requests on multiple servers. ⏩\n",
    "\n",
    "> **Cost Efficiency:** Instead of investing in expensive, high-performance hardware, you can use multiple cheaper machines to achieve the same (or better) results. 💰\n",
    "\n",
    "> **Flexibility:** You can use a mix of different types of machines, hardware, or even cloud providers. This makes it easier to build and manage systems that adapt to changing needs. 🔄"
   ]
  },
  {
   "cell_type": "markdown",
   "id": "9e5bebd0",
   "metadata": {},
   "source": [
    "## **Microservices: The Real-World Scenario**"
   ]
  },
  {
   "cell_type": "markdown",
   "id": "d66079a3",
   "metadata": {},
   "source": [
    "### 🎬 **Building a Movie Recommendation System**\n",
    "\n",
    "Imagine you are building a machine learning system to recommend movies to users (like Netflix). This ML system has several components:\n",
    "\n",
    "1. **📥 Data Ingestion:** Collects and processes data from users (e.g., their watch history and ratings).  \n",
    "2. **🔍 Feature Engineering:** Transforms raw data into meaningful inputs for your ML model.  \n",
    "3. **🛠️ Model Training:** Continuously trains and updates your recommendation algorithm.  \n",
    "4. **🚀 Model Serving:** Hosts the trained model and responds to user requests in real time.  \n",
    "5. **📱 User Interface:** Provides the website or app where users can browse and see recommendations.\n",
    "\n",
    "In the traditional **monolithic architecture**, all these components would be bundled into a single application. If you wanted to scale the system (e.g., if user requests increased), you would have to scale the entire application, even if only the **Model Serving** component needed more resources. 📈\n",
    "\n",
    "Now, let’s see how **microservices** solve this problem. 🔄\n"
   ]
  },
  {
   "cell_type": "markdown",
   "id": "947a02cf",
   "metadata": {},
   "source": [
    "![Microservices](soa-vs-microservices.jpg)"
   ]
  },
  {
   "cell_type": "markdown",
   "id": "8d7e18a3",
   "metadata": {},
   "source": [
    "*Microservices* in Action 🚀\n",
    "\n",
    "Instead of bundling everything together, microservices break down the application into smaller, independent components. Each component is responsible for a single task and can run, scale, and be updated independently. 📦✨\n",
    "\n",
    "For our ML system: 🤖\n",
    "\n",
    "- **Data Ingestion Service**: Runs independently, continuously collecting and processing data. 📥\n",
    "- **Feature Engineering Service**: Operates on processed data and outputs features for the model. 📊\n",
    "- **Training Service**: Triggers model retraining when new data arrives or at scheduled intervals. 🧠\n",
    "- **Model Serving Service**: Hosts the model, answering API requests like, “What movies should User123 watch?” 🎬\n",
    "\n",
    "- **UI Service**: Displays the user interface and connects to the backend services. 🖥️\n",
    "This separation makes it easy to scale just the Model Serving Service when the number of user requests spikes, without affecting the other parts of the system. 📈"
   ]
  },
  {
   "cell_type": "markdown",
   "id": "7d40672f",
   "metadata": {},
   "source": [
    "#### Real-Life Analogy for Microservices: Think of microservices as a food court! 🍜🍕☕\n",
    "\n",
    "- Each food stall specializes in one type of cuisine (e.g., burgers, pizza, coffee). 🍔\n",
    "- They operate independently, so if one stall runs out of ingredients (or needs upgrades), it doesn’t affect the others. 🚧\n",
    "- Customers (users) can pick and choose what they want, and the food court manager (Kubernetes) ensures all stalls have the resources (electricity, water) they need to function. 💡💧"
   ]
  },
  {
   "cell_type": "markdown",
   "id": "5270c223",
   "metadata": {},
   "source": [
    "\n",
    "### ***Challenges of Distributed Computing***"
   ]
  },
  {
   "cell_type": "markdown",
   "id": "450c0bd9",
   "metadata": {},
   "source": [
    "- **Resource Management** 🛠️: Allocating resources like CPU, memory, and storage across machines is complex. How do you ensure that no machine is overloaded while others are idle?\n",
    "\n",
    "- **Scaling** 📈: Adding or removing machines from the system (scaling up or down) requires significant effort. For instance, if traffic spikes suddenly, how do you add new machines and ensure they integrate seamlessly?\n",
    "\n",
    "- **Communication and Networking** 🌐: Machines in a distributed system need to communicate constantly. Network failures, latencies, or configuration errors can cause significant issues.\n",
    "\n",
    "- **Fault Handling** ⚠️: Ensuring fault tolerance requires mechanisms to detect failures, recover lost data, and reroute tasks, all while minimizing downtime.\n",
    "\n",
    "- **Load Balancing** ⚖️: Distributing tasks evenly across machines is non-trivial. Overloading one machine while others remain underutilized can degrade system performance.\n",
    "\n",
    "- **Configuration and Deployment** ⚙️: Managing the deployment of software across multiple machines can be error-prone. Imagine manually configuring hundreds of machines—it's a logistical nightmare.\n",
    "\n",
    "- **Monitoring and Debugging** 🔍: Identifying issues in a distributed system is much harder than in a single system. Logs, metrics, and performance data are spread across multiple machines."
   ]
  },
  {
   "cell_type": "markdown",
   "id": "f22e6501",
   "metadata": {},
   "source": []
  },
  {
   "cell_type": "markdown",
   "id": "c2c703fd",
   "metadata": {},
   "source": [
    "### Kubernetes: A Solution for Distributed Computing Challenges"
   ]
  },
  {
   "cell_type": "markdown",
   "id": "da614e90",
   "metadata": {},
   "source": [
    "Kubernetes is a <span style=\"color: blue; font-weight: bold;\">container orchestration platform</span> 🌐 specifically designed to address the challenges of distributed computing:\n",
    "\n",
    "1. <span style=\"color: green; font-weight: bold;\">Automated Resource Management</span> 🔧  \n",
    "   Kubernetes schedules workloads across machines (nodes) based on available resources, ensuring optimal usage and preventing overload.\n",
    "\n",
    "2. <span style=\"color: orange; font-weight: bold;\">Effortless Scaling</span> 📊  \n",
    "   Scaling is as simple as changing a number in the deployment configuration. Kubernetes automatically adds or removes pods to match the desired state.\n",
    "\n",
    "3. <span style=\"color: purple; font-weight: bold;\">Reliable Networking</span> 🌉  \n",
    "   Kubernetes provides built-in networking solutions, enabling pods (smallest compute units) to communicate seamlessly, even in complex environments.\n",
    "\n",
    "4. <span style=\"color: red; font-weight: bold;\">Self-Healing</span> 🛠️  \n",
    "   Kubernetes continuously monitors the health of your system. If a pod crashes, Kubernetes restarts it automatically or reschedules it on another node.\n",
    "\n",
    "5. <span style=\"color: teal; font-weight: bold;\">Load Balancing</span> ⚖️  \n",
    "   Kubernetes evenly distributes traffic across all healthy pods, ensuring no single pod is overwhelmed while others remain idle.\n",
    "\n",
    "6. <span style=\"color: brown; font-weight: bold;\">Simplified Deployment</span> 🚀  \n",
    "   Using <span style=\"color: darkblue; font-weight: bold;\">declarative configuration files</span> (YAML), Kubernetes allows you to define how applications should run. Once defined, Kubernetes takes care of deploying and managing them.\n",
    "\n",
    "7. <span style=\"color: navy; font-weight: bold;\">Centralized Monitoring and Debugging</span> 🔍  \n",
    "   Kubernetes integrates with monitoring tools like <span style=\"color: darkgreen; font-weight: bold;\">Prometheus</span> and logging tools like <span style=\"color: darkred; font-weight: bold;\">ELK Stack</span>, providing a unified view of the system.\n"
   ]
  },
  {
   "cell_type": "markdown",
   "id": "2b18e060",
   "metadata": {},
   "source": [
    "### Key Features\n"
   ]
  },
  {
   "cell_type": "markdown",
   "id": "a4ceeb7f",
   "metadata": {},
   "source": [
    "- <span style=\"color: green;\">Resource Management</span>: Efficiently allocates resources to prevent overload.\n",
    "- <span style=\"color: orange;\">Scaling</span>: Easily adjusts to changing demands.\n",
    "- <span style=\"color: purple;\">Networking</span>: Ensures reliable communication between pods.\n",
    "- <span style=\"color: red;\">Self-Healing</span>: Automatically recovers from failures.\n",
    "- <span style=\"color: teal;\">Load Balancing</span>: Distributes traffic effectively.\n",
    "- <span style=\"color: brown;\">Deployment</span>: Simplifies application management.\n",
    "- <span style=\"color: navy;\">Monitoring</span>: Offers a comprehensive overview of system health.\n",
    "\n",
    "> *Kubernetes empowers teams to manage complex distributed systems with ease, enhancing productivity and reliability.* 🌟"
   ]
  },
  {
   "cell_type": "markdown",
   "id": "22735f4e",
   "metadata": {},
   "source": []
  },
  {
   "cell_type": "markdown",
   "id": "43ac36f7",
   "metadata": {},
   "source": [
    "### **Kubernetes Internals** 🛠️\n",
    "\n",
    "#### Master Node (Control Plane) 🧠\n",
    "The master node is the brain of the Kubernetes cluster. It oversees the system, manages workloads, and ensures everything runs as expected. Think of it as the manager in a factory that delegates tasks and monitors operations.\n",
    "\n",
    "#### Resource Manager 📊\n",
    "The resource manager in Kubernetes ensures that cluster resources like CPU, memory, and storage are allocated efficiently. It’s like a warehouse manager who ensures that raw materials (resources) are distributed to the right production lines (nodes).\n",
    "\n",
    "#### API Server (For User Communication) 📞\n",
    "Users interact with Kubernetes through the API Server. It’s like the receptionist at an office—you send requests (like deploying an app), and the API Server routes them to the appropriate components in the cluster.\n",
    "\n",
    "#### Database (etcd) 📚\n",
    "`etcd` is Kubernetes' central database where all cluster data is stored, including the current state of the system and desired configurations. Imagine it as a library catalog—every time you check out or return a book, the catalog is updated to reflect the changes.\n",
    "\n",
    "#### Worker Node 💪\n",
    "Worker nodes are the muscle of the cluster. They run your applications and handle the tasks assigned by the master node. Think of them as factory workers who execute tasks given by the manager (master node).\n",
    "\n",
    "#### Kubelet 👨‍🏭\n",
    "The kubelet is an agent running on each worker node that ensures containers (your applications) are running as expected. It’s like a shift supervisor in a factory who ensures each machine is operating correctly.\n",
    "\n",
    "#### Kube-Proxy 🚦\n",
    "The kube-proxy manages network traffic for pods, ensuring they can communicate with each other and the outside world. It’s like a traffic cop at a busy intersection, directing cars (data packets) to the right destinations.\n",
    "\n",
    "#### Pods 📦\n",
    "A pod is the smallest deployable unit in Kubernetes and typically wraps one or more containers. Think of it as a container ship holding one or more goods (containers) and transporting them across a logistics network.\n",
    "\n",
    "#### SharedDB (Volumes) 🔒\n",
    "Volumes are shared storage spaces in Kubernetes that allow pods to save and share data. It’s like a shared locker room where workers (pods) can access tools or leave notes for each other.\n",
    "\n",
    "#### Kube-Manifest (YAML) 📄\n",
    "Kube manifests are configuration files written in YAML that define what you want Kubernetes to do, such as deploying an app or creating a service. Think of it as the blueprint for building a house—Kubernetes reads it to know exactly what to construct.\n",
    "\n",
    "#### Service 🍽️\n",
    "A service in Kubernetes provides a stable network endpoint for accessing a set of pods. Even if the pods are replaced or moved, the service ensures they can still be reached. It’s like a restaurant hotline—no matter who answers the phone (which server pod), your order is taken.\n",
    "\n",
    "#### Namespace 🗂️\n",
    "Namespaces are virtual clusters within a Kubernetes cluster that help organize and isolate resources. It’s like different departments in a large office building—HR, Sales, and IT each work in separate areas but share the same infrastructure.\n",
    "\n",
    "#### Scheduler 📅\n",
    "The scheduler decides which worker node will run a new pod based on resource availability. It's like a dispatcher allocating tasks to the most available worker.\n",
    "\n",
    "#### ReplicaSets 🔄\n",
    "ReplicaSets ensure that a specified number of identical pods are always running. It’s like a backup generator ensuring there’s always power even if one generator fails.\n"
   ]
  },
  {
   "cell_type": "markdown",
   "id": "172f0267",
   "metadata": {},
   "source": []
  },
  {
   "cell_type": "markdown",
   "id": "f8ac4648",
   "metadata": {},
   "source": [
    "### <span style=\"color: lightgreen;\">🌐 Real-Life Analogy: Distributed Computing Without and With Kubernetes</span>"
   ]
  },
  {
   "cell_type": "markdown",
   "id": "a8d14a3a",
   "metadata": {},
   "source": [
    "#### <span style=\"color: yellow;\">Without Kubernetes:</span>  \n",
    "Imagine running a massive restaurant chain where you have to manage chefs, waiters, supplies, and customer orders manually for each branch. If one branch runs out of ingredients or if a waiter quits, everything falls apart. 🍽️\n",
    "\n",
    "#### <span style=\"color: yellow;\">With Kubernetes:</span>  \n",
    "Now, imagine a central management system that monitors every branch in real time, restocks ingredients automatically, hires temporary staff when someone quits, and redirects customers to the least crowded branches. That’s Kubernetes for your distributed computing! 🚀\n",
    "\n",
    "---\n",
    "\n",
    "#### <span style=\"color: lightgreen;\">📊 Summary</span>\n",
    "- <span style=\"color: pink;\">Distributed Computing Benefits:</span> Scalability, fault tolerance, improved performance, cost efficiency, and flexibility.  \n",
    "- <span style=\"color: pink;\">Challenges:</span> Resource management, scaling, communication, fault handling, load balancing, deployment, and monitoring.  \n",
    "- <span style=\"color: pink;\">Kubernetes:</span> A robust solution that automates, simplifies, and optimizes the management of distributed systems, making it the backbone for modern applications, especially in MLOps.\n"
   ]
  },
  {
   "cell_type": "markdown",
   "id": "862a79a7",
   "metadata": {},
   "source": []
  },
  {
   "cell_type": "markdown",
   "id": "3523dc43",
   "metadata": {},
   "source": [
    "### <span style=\"color: lightgreen;\">🔗 **Connecting Microservices to Docker and Kubernetes**</span>"
   ]
  },
  {
   "cell_type": "markdown",
   "id": "73ad9c62",
   "metadata": {},
   "source": [
    "#### <span style=\"color: yellow;\">**🐳 Docker: Packaging the Microservices</span>**\n",
    "\n",
    "Each microservice runs inside its own Docker container. Think of Docker containers as \"takeout boxes\" for food stalls:\n",
    "- Every box contains all the ingredients (dependencies) needed for that service.\n",
    "- It’s lightweight, portable, and ensures the service runs the same way everywhere—whether on your laptop, a server, or the cloud.\n",
    "\n",
    "#### <span style=\"color: yellow;\">For example:</span>\n",
    "- The <span style=\"color: pink;\">Data Ingestion Service</span> is packaged in one container.  \n",
    "- The <span style=\"color: pink;\">Model Serving Service</span> is packaged in another.  \n",
    "\n",
    "#### <span style=\"color: yellow;\">⚙️ Kubernetes: Orchestrating the Microservices</span>\n",
    "\n",
    "Kubernetes acts like the food court manager who ensures all stalls (containers) operate efficiently:\n",
    "1. <span style=\"color: pink;\">Scaling:</span> If the burger stall has a long line, the manager deploys more burger chefs (replicas) to handle the load. Similarly, Kubernetes can spin up more pods for a service.  \n",
    "2. <span style=\"color: pink;\">Networking:</span> The manager ensures customers can easily navigate the food court. Similarly, Kubernetes handles communication between containers and ensures users can access the services.  \n",
    "3. <span style=\"color: pink;\">Load Balancing:</span> Kubernetes distributes traffic among multiple instances of a service (e.g., multiple replicas of the Model Serving Service).  \n"
   ]
  },
  {
   "cell_type": "markdown",
   "id": "c2cfe31d",
   "metadata": {},
   "source": []
  }
 ],
 "metadata": {
  "kernelspec": {
   "display_name": "base",
   "language": "python",
   "name": "python3"
  },
  "language_info": {
   "codemirror_mode": {
    "name": "ipython",
    "version": 3
   },
   "file_extension": ".py",
   "mimetype": "text/x-python",
   "name": "python",
   "nbconvert_exporter": "python",
   "pygments_lexer": "ipython3",
   "version": "3.12.7"
  }
 },
 "nbformat": 4,
 "nbformat_minor": 5
}
